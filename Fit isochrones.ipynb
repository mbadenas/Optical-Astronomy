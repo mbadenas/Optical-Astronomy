{
 "cells": [
  {
   "cell_type": "code",
   "execution_count": 10,
   "metadata": {},
   "outputs": [
    {
     "name": "stdout",
     "output_type": "stream",
     "text": [
      "Using matplotlib backend: Qt5Agg\n"
     ]
    }
   ],
   "source": [
    "%matplotlib\n",
    "import numpy as np\n",
    "import matplotlib.pyplot as plt\n",
    "from matplotlib import cm\n",
    "import pylab\n",
    "from pylab import rcParams\n",
    "rcParams['figure.figsize'] = 10, 7\n",
    "#import astroML \n",
    "#from astroML.plotting import setup_text_plots\n",
    "#setup_text_plots(fontsize=14, usetex=True)"
   ]
  },
  {
   "cell_type": "code",
   "execution_count": 3,
   "metadata": {
    "collapsed": true
   },
   "outputs": [],
   "source": [
    "# this functions may be for johnson instead of stromgren\n",
    "def Teff(bv):\n",
    "    return 7540./(bv+0.865)\n",
    "def L(V,d):\n",
    "    return (V-5*np.log10(d/10)-4.83)/2.5"
   ]
  },
  {
   "cell_type": "code",
   "execution_count": 4,
   "metadata": {},
   "outputs": [],
   "source": [
    "stars = np.loadtxt('isochrone/stars_std.lst')\n",
    "stars_Teff_L = np.empty((np.shape(stars)[0],2)) # Teff and luminosity from V and b-v \n",
    "#extrapolated using a formula in Mariona's notes. It contains Teff,L \n",
    "# in the second dimension\n",
    "stars_Teff_L[:,0] = Teff(stars[:,2])\n",
    "d=830\n",
    "stars_Teff_L[:,1] = -L(stars[:,0],d)\n",
    "\n",
    "iso1 = np.loadtxt('isochrone/iso_4p2Gyr_z0_d1Kpc_r0p03.dat')\n",
    "iso2 = np.loadtxt('isochrone/iso_4p2Gyr_z0_d830pc_r0p03.dat')\n",
    "iso3 = np.loadtxt('isochrone/iso_4p4Gyr_z0_d830pc_r0p03.dat')\n",
    "iso4 = np.loadtxt('isochrone/iso_a4000Myr_z0p01_d850pc_r0p04.dat')\n",
    "iso5 = np.loadtxt('isochrone/iso_a5000Myr_z0p02_d1Mpc_r0')"
   ]
  },
  {
   "cell_type": "code",
   "execution_count": 5,
   "metadata": {},
   "outputs": [
    {
     "data": {
      "text/plain": [
       "<matplotlib.legend.Legend at 0xb264e48>"
      ]
     },
     "execution_count": 5,
     "metadata": {},
     "output_type": "execute_result"
    }
   ],
   "source": [
    "plt.plot(stars[:,2], stars[:,0],'.') #x-axis: b-y; y-axis: V\n",
    "plt.plot(iso1[:,1], iso1[:,0], '-', label='iso1')\n",
    "plt.plot(iso2[:,1], iso2[:,0], '-', label='iso2')\n",
    "plt.plot(iso3[:,1], iso3[:,0], '-', label='iso3')\n",
    "#plt.plot(10**iso4[:,3], iso4[:,2], '-', label='iso4')\n",
    "#plt.plot(10**iso5[:,3], iso5[:,2], '-', label='iso5')\n",
    "plt.ylim([20, 9])\n",
    "#plt.xlim([10000, 3000])\n",
    "plt.xlabel('b-y')\n",
    "plt.ylabel('V')\n",
    "plt.legend()"
   ]
  },
  {
   "cell_type": "code",
   "execution_count": 6,
   "metadata": {},
   "outputs": [
    {
     "data": {
      "text/plain": [
       "Text(0,0.5,u'$L/L_\\\\odot$')"
      ]
     },
     "execution_count": 6,
     "metadata": {},
     "output_type": "execute_result"
    }
   ],
   "source": [
    "# la interpolació s'ha de fer només per la main sequence, \n",
    "# per tant cal tallar al màxim per eliminar la relacio bv Teff \n",
    "# post MS, per gegants i en proces de se-ho, la funció és bastant \n",
    "# maca\n",
    "from scipy.signal import argrelextrema\n",
    "#sorted_index = np.argsort(iso5[:Tmax,0])\n",
    "#sorted_by = iso5[sorted_index,1]\n",
    "maxInd = argrelextrema(iso5[:,3], np.less)[0][0]\n",
    "by = iso5[:maxInd,1]\n",
    "Teff = iso5[:maxInd,3]\n",
    "# els vaors de la isocrona amb index menor a maxInd son aquells \n",
    "# que pertanyen a la main sequence, per tant al fer el fit/interpolacio\n",
    "# només hem de tenir en compte els vectors de 0:maxInd\n",
    "plt.figure()\n",
    "plt.plot(by,Teff,'.')\n",
    "plt.xlabel('b-y')\n",
    "plt.ylabel('Teff')\n",
    "plt.figure()\n",
    "plt.plot(iso5[:maxInd,0],iso5[:maxInd,2],'.') \n",
    "plt.xlabel('V')\n",
    "plt.ylabel('$L/L_\\odot$')"
   ]
  },
  {
   "cell_type": "code",
   "execution_count": 7,
   "metadata": {},
   "outputs": [
    {
     "name": "stdout",
     "output_type": "stream",
     "text": [
      "[3.8010285714285668, -0.23809523809523281, -0.49999999999972244, 0.6, 50]\n",
      "[  3.66654893  -0.27343116  -0.46888241   0.60768322  14.38758623]\n"
     ]
    },
    {
     "data": {
      "text/plain": [
       "Text(0,0.5,u'Teff')"
      ]
     },
     "execution_count": 7,
     "metadata": {},
     "output_type": "execute_result"
    }
   ],
   "source": [
    "# fem el fit en questió. aixo no ho he borrat perque va be per \n",
    "# veure com es comporten les funcions fora de la zona MS.\n",
    "# així, com més lineal és menys modifica sense sentit els resultats\n",
    "# de les estrelles fora de la MS.\n",
    "def curvefitter(x,p0,plow,phigh,pchange,prate):\n",
    "    # params has dimension 5 (from 0 to 4)\n",
    "    #y = p0+p1*x+p2*x**2+p3*x**3+p_1/x\n",
    "    # try with variable p1\n",
    "    p1 = (phigh-plow)/(1+np.exp(prate*(x-pchange)))+plow\n",
    "    y = p0+p1*(x-pchange)\n",
    "    return y\n",
    "#p1_0 = (Teff[-1]-Teff[0])/(by[-1]-by[0]) #first guess of params[1]\n",
    "plow = (Teff[10]-Teff[0])/(by[10]-by[0])\n",
    "phigh = (Teff[-1]-Teff[-10])/(by[-1]-by[-10])\n",
    "p0_0 = Teff[0]-plow*by[0]\n",
    "p0 = [p0_0,plow,phigh,.6,50]\n",
    "print p0\n",
    "import scipy.optimize as opt\n",
    "popt, pcov = opt.curve_fit(curvefitter,by,Teff,p0)\n",
    "plt.figure()\n",
    "plt.plot(by,Teff,'+')\n",
    "by_grid = np.linspace(.3*min(by),1.7*max(by),1000)\n",
    "plt.plot(by_grid,curvefitter(by_grid,*popt),'-')\n",
    "print popt\n",
    "plt.xlabel('b-y')\n",
    "plt.ylabel('Teff')"
   ]
  },
  {
   "cell_type": "code",
   "execution_count": 8,
   "metadata": {
    "collapsed": true
   },
   "outputs": [],
   "source": [
    "def Vby2LT(stars,iso):\n",
    "    # 1- get indMax\n",
    "    maxInd = argrelextrema(iso[:,3], np.less)[0][0]\n",
    "    by = iso[:maxInd,1]\n",
    "    T  = iso[:maxInd,3]\n",
    "    V  = iso[:maxInd,0]\n",
    "    L  = iso[:maxInd,2]\n",
    "    # 2- fit the curves\n",
    "    # 2.1- fit T(by)\n",
    "    plow = (T[10]-T[0])/(by[10]-by[0])\n",
    "    phigh = (T[-1]-T[-10])/(by[-1]-by[-10])\n",
    "    p0_0 = T[0]-plow*by[0]\n",
    "    p0 = [p0_0,plow,phigh,.6,50]\n",
    "    poptT, pcov = opt.curve_fit(curvefitter,by,T,p0)\n",
    "    # 2.1- fit T(by)\n",
    "    plow = (L[10]-L[0])/(V[10]-V[0])\n",
    "    phigh = (L[-1]-L[-10])/(V[-1]-V[-10])\n",
    "    p0_0 = L[0]-plow*V[0]\n",
    "    p0 = [p0_0,plow,phigh,.6,50]\n",
    "    poptL, pcov = opt.curve_fit(curvefitter,V,L,p0)\n",
    "    # 3- apply the curve with the fitted parameters to V and by to \n",
    "    # get L and T\n",
    "    Lstars = curvefitter(stars[:,0],*poptL)\n",
    "    Tstars = curvefitter(stars[:,2],*poptT)\n",
    "    return Tstars,Lstars"
   ]
  },
  {
   "cell_type": "code",
   "execution_count": 41,
   "metadata": {},
   "outputs": [
    {
     "name": "stderr",
     "output_type": "stream",
     "text": [
      "C:\\Users\\Oriol\\Anaconda2\\lib\\site-packages\\ipykernel_launcher.py:9: RuntimeWarning: overflow encountered in exp\n",
      "  if __name__ == '__main__':\n"
     ]
    },
    {
     "data": {
      "text/plain": [
       "<matplotlib.legend.Legend at 0x2cfe5710>"
      ]
     },
     "execution_count": 41,
     "metadata": {},
     "output_type": "execute_result"
    }
   ],
   "source": [
    "Tstars,Lstars = Vby2LT(stars,iso2)\n",
    "plt.figure()\n",
    "plt.semilogy(10**iso2[:,3],10**iso2[:,2],'-',label='Best isochrone fit',color='purple')\n",
    "plt.scatter(10**Tstars,10**Lstars,c=10**Tstars,label='Observations',cmap=cm.RdYlBu, vmin=3000,\n",
    "            vmax=9000,marker='.',s=0.8)#,linewidths=0.1,edgecolors='k')\n",
    "plt.xlim([10000, 3000])\n",
    "plt.xlabel('$T_{eff}$')\n",
    "plt.ylabel('$L/L_\\odot$')\n",
    "plt.gca().set_facecolor('xkcd:almost black') # sensible options: charcoal, dark, almost black and midnight. Black is too much\n",
    "#plt.grid(True,color='xkcd:light grey', linestyle='--', linewidth=1, alpha=0.6)\n",
    "plt.legend()"
   ]
  },
  {
   "cell_type": "markdown",
   "metadata": {
    "collapsed": true
   },
   "source": [
    "## Generate the list of pst stars"
   ]
  },
  {
   "cell_type": "code",
   "execution_count": 65,
   "metadata": {},
   "outputs": [],
   "source": [
    "pst_b = np.loadtxt('Lab1/science_m67_b.pst.1',dtype=np.float64)\n",
    "pst_y = np.loadtxt('Lab1/science_m67_y.pst.1',dtype=np.float64)"
   ]
  },
  {
   "cell_type": "code",
   "execution_count": 70,
   "metadata": {},
   "outputs": [
    {
     "name": "stdout",
     "output_type": "stream",
     "text": [
      "b filter\n",
      "\n",
      "175 & 1945.945 & 876.506 & -11.745 & 1.119405 \\\\\n",
      "24 & 1829.076 & 114.152 & -11.659 & -0.9860825 \\\\\n",
      "235 & 213.076 & 1145.705 & -11.611 & -1.427757 \\\\\n",
      "375 & 1740.711 & 1895.507 & -11.581 & -1.485688 \\\\\n",
      "226 & 358.469 & 1101.716 & -11.399 & -3.561035 \\\\\n",
      "354 & 1176.973 & 1711.751 & -11.259 & -3.470577 \\\\\n",
      "36 & 570.607 & 180.730 & -11.212 & -5.184465 \\\\\n",
      "203 & 866.194 & 1006.945 & -11.080 & -4.050434 \\\\\n",
      "222 & 1540.214 & 1097.801 & -11.020 & -3.684947 \\\\\n",
      "12 & 1225.507 & 52.826 & -10.981 & -6.149918 \\\\\n",
      "35 & 798.813 & 179.623 & -10.855 & -6.703156 \\\\\n",
      "109 & 705.694 & 616.636 & -10.707 & -5.814357 \\\\\n",
      "428 & 444.344 & 2255.923 & -10.705 & -5.576495 \\\\\n",
      "241 & 1377.805 & 1173.293 & -10.654 & -6.27722 \\\\\n",
      "66 & 812.461 & 318.594 & -10.494 & -7.911538 \\\\\n",
      "227 & 1580.952 & 1112.471 & -10.454 & -5.203313 \\\\\n",
      "309 & 725.354 & 1459.743 & -10.444 & -6.486355 \\\\\n",
      "65 & 504.365 & 314.500 & -10.385 & -8.76615 \\\\\n",
      "31 & 1436.586 & 157.905 & -10.313 & -9.385581 \\\\\n",
      "86 & 176.649 & 478.417 & -10.247 & -9.382069 \\\\\n",
      "280 & 1653.738 & 1312.492 & -10.214 & -3.942057 \\\\\n",
      "486 & 1850.375 & 2864.589 & -10.198 & -8.253959 \\\\\n",
      "34 & 846.279 & 174.193 & -10.172 & -8.53876 \\\\\n",
      "253 & 819.568 & 1218.820 & -10.168 & -8.262375 \\\\\n",
      "185 & 1272.660 & 931.650 & -10.164 & -8.317695 \\\\\n",
      "\n",
      "y filter\n",
      "\n",
      "264 & 1151.249 & 1300.726 & -13.946 & 0.5234876 \\\\\n",
      "205 & 1191.400 & 1047.069 & -13.772 & -0.5397875 \\\\\n",
      "174 & 131.256 & 906.934 & -13.753 & -1.424866 \\\\\n",
      "168 & 1072.099 & 869.001 & -13.727 & -1.393588 \\\\\n",
      "304 & 350.513 & 1504.468 & -13.714 & -1.713996 \\\\\n",
      "150 & 730.804 & 776.446 & -13.702 & -1.779321 \\\\\n",
      "24 & 1829.388 & 114.049 & -13.481 & -5.035748 \\\\\n",
      "93 & 614.370 & 540.151 & -13.303 & -4.503945 \\\\\n",
      "167 & 492.008 & 866.891 & -13.272 & -3.976508 \\\\\n",
      "105 & 1033.657 & 612.796 & -13.155 & -3.871025 \\\\\n",
      "268 & 697.980 & 1308.169 & -13.089 & -4.192122 \\\\\n",
      "227 & 213.230 & 1146.079 & -13.010 & -5.409077 \\\\\n",
      "33 & 570.634 & 180.601 & -12.991 & -6.258815 \\\\\n",
      "219 & 358.480 & 1102.087 & -12.936 & -6.031348 \\\\\n",
      "171 & 1946.247 & 876.778 & -12.931 & -5.476017 \\\\\n",
      "363 & 1740.981 & 1895.804 & -12.887 & -6.074517 \\\\\n",
      "216 & 1540.456 & 1098.105 & -12.790 & -5.308525 \\\\\n",
      "197 & 866.446 & 1007.375 & -12.753 & -6.053949 \\\\\n",
      "12 & 1225.634 & 52.700 & -12.744 & -7.094096 \\\\\n",
      "342 & 1177.118 & 1712.112 & -12.664 & -7.130326 \\\\\n",
      "32 & 798.912 & 179.540 & -12.619 & -7.028819 \\\\\n",
      "409 & 444.412 & 2256.442 & -12.228 & -8.48815 \\\\\n",
      "62 & 504.405 & 314.495 & -12.119 & -8.866336 \\\\\n",
      "235 & 1378.051 & 1173.600 & -12.090 & -8.147599 \\\\\n",
      "298 & 725.491 & 1460.280 & -11.999 & -7.935942 \\\\\n"
     ]
    }
   ],
   "source": [
    "print 'b filter\\n'\n",
    "for i,(num,x,y,m,ms) in enumerate(pst_b):\n",
    "    print '%d & %.3f & %.3f & %.3f & %.7g \\\\\\\\' %(num,x,y,m,ms)\n",
    "print '\\ny filter\\n'\n",
    "for i,(num,x,y,m,ms) in enumerate(pst_y):\n",
    "    print '%d & %.3f & %.3f & %.3f & %.7g \\\\\\\\' %(num,x,y,m,ms)"
   ]
  },
  {
   "cell_type": "code",
   "execution_count": null,
   "metadata": {
    "collapsed": true
   },
   "outputs": [],
   "source": []
  }
 ],
 "metadata": {
  "kernelspec": {
   "display_name": "Python 2",
   "language": "python",
   "name": "python2"
  },
  "language_info": {
   "codemirror_mode": {
    "name": "ipython",
    "version": 2
   },
   "file_extension": ".py",
   "mimetype": "text/x-python",
   "name": "python",
   "nbconvert_exporter": "python",
   "pygments_lexer": "ipython2",
   "version": "2.7.14"
  }
 },
 "nbformat": 4,
 "nbformat_minor": 1
}
